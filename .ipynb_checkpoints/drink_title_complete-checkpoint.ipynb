{
 "cells": [
  {
   "cell_type": "code",
   "execution_count": 3,
   "metadata": {},
   "outputs": [],
   "source": [
    "import pickle\n",
    "import numpy as np"
   ]
  },
  {
   "cell_type": "markdown",
   "metadata": {},
   "source": [
    "## 讀取清心全品項的資料"
   ]
  },
  {
   "cell_type": "code",
   "execution_count": 4,
   "metadata": {},
   "outputs": [],
   "source": [
    "with open('./drinks.pkl', 'rb') as f:\n",
    "    drink_list = pickle.load(f)"
   ]
  },
  {
   "cell_type": "code",
   "execution_count": 8,
   "metadata": {},
   "outputs": [
    {
     "data": {
      "text/plain": [
       "['原鄉四季',\n",
       " '特級綠茶',\n",
       " '烏龍綠茶',\n",
       " '翡翠烏龍',\n",
       " '極品菁茶',\n",
       " '錫蘭紅茶',\n",
       " '特選普洱',\n",
       " '奶茶系列',\n",
       " '錫蘭奶紅',\n",
       " '特級奶綠']"
      ]
     },
     "execution_count": 8,
     "metadata": {},
     "output_type": "execute_result"
    }
   ],
   "source": [
    "drink_list[:10]"
   ]
  },
  {
   "cell_type": "markdown",
   "metadata": {},
   "source": [
    "## 使用 levenshtein distance 計算相似度\n",
    "可參考 https://rust-algo.club/levenshtein_distance/"
   ]
  },
  {
   "cell_type": "code",
   "execution_count": 14,
   "metadata": {},
   "outputs": [],
   "source": [
    "def levenshtein_ratio_and_distance(s, t):\n",
    "    rows = len(s)+1\n",
    "    cols = len(t)+1\n",
    "    distance = np.zeros((rows,cols),dtype = int)\n",
    "\n",
    "    for i in range(1, rows):\n",
    "        for k in range(1,cols):\n",
    "            distance[i][0] = i\n",
    "            distance[0][k] = k\n",
    " \n",
    "    for col in range(1, cols):\n",
    "        for row in range(1, rows):\n",
    "            # case: character are the same\n",
    "            if s[row-1] == t[col-1]:\n",
    "                cost = 0 \n",
    "            else:\n",
    "                cost = 2\n",
    "            distance[row][col] = min(distance[row-1][col] + 1,      # Cost of delete\n",
    "                                 distance[row][col-1] + 1,          # Cost of insert\n",
    "                                 distance[row-1][col-1] + cost)     # Cost of substitution\n",
    "\n",
    "    ratio = ((len(s)+len(t)) - distance[row][col]) / (len(s)+len(t))\n",
    "    return ratio"
   ]
  },
  {
   "cell_type": "markdown",
   "metadata": {},
   "source": [
    "## 根據相似度來排序結果，回傳最相近的，如果沒有品項相似比例超過0.5，則回傳簡稱"
   ]
  },
  {
   "cell_type": "code",
   "execution_count": 15,
   "metadata": {},
   "outputs": [],
   "source": [
    "def fuzzyfinder(user_input, collection):\n",
    "    suggestions = []\n",
    "    \n",
    "    for item in collection:\n",
    "        ratio = levenshtein_ratio_and_distance(user_input,item)\n",
    "        if ratio > 0.5:\n",
    "            suggestions.append((ratio, item))\n",
    "    res = [x for _, x in sorted(suggestions)]\n",
    "    try:\n",
    "        return res[-1]\n",
    "    except:\n",
    "        return user_input"
   ]
  },
  {
   "cell_type": "markdown",
   "metadata": {},
   "source": [
    "## 測試"
   ]
  },
  {
   "cell_type": "code",
   "execution_count": 22,
   "metadata": {},
   "outputs": [],
   "source": [
    "inputs = [\"普洱\", \"原鄉\", \"紅茶\",\"烏奶\", \"果醋\"]"
   ]
  },
  {
   "cell_type": "code",
   "execution_count": 23,
   "metadata": {},
   "outputs": [
    {
     "name": "stdout",
     "output_type": "stream",
     "text": [
      "特選普洱\n",
      "原鄉四季\n",
      "錫蘭紅茶\n",
      "烏龍奶茶\n",
      "蘋果醋\n"
     ]
    }
   ],
   "source": [
    "for item in inputs:\n",
    "    print(fuzzyfinder(item, drink_list))"
   ]
  },
  {
   "cell_type": "code",
   "execution_count": null,
   "metadata": {},
   "outputs": [],
   "source": []
  }
 ],
 "metadata": {
  "kernelspec": {
   "display_name": "Python 3",
   "language": "python",
   "name": "python3"
  },
  "language_info": {
   "codemirror_mode": {
    "name": "ipython",
    "version": 3
   },
   "file_extension": ".py",
   "mimetype": "text/x-python",
   "name": "python",
   "nbconvert_exporter": "python",
   "pygments_lexer": "ipython3",
   "version": "3.6.10"
  }
 },
 "nbformat": 4,
 "nbformat_minor": 4
}
